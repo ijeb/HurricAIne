{
 "cells": [
  {
   "cell_type": "code",
   "execution_count": 74,
   "metadata": {},
   "outputs": [],
   "source": [
    "from pandas import read_csv\n",
    "from datetime import datetime\n",
    "\n",
    "def clean_html(df):\n",
    "    df.replace({r'<.*?>': ''}, regex=True, inplace=True)"
   ]
  },
  {
   "cell_type": "markdown",
   "metadata": {},
   "source": [
    "## Bejing Pollution Data Preparation  "
   ]
  },
  {
   "cell_type": "code",
   "execution_count": 6,
   "metadata": {},
   "outputs": [
    {
     "name": "stdout",
     "output_type": "stream",
     "text": [
      "                     No  pm2.5  DEWP  TEMP    PRES cbwd    Iws  Is  Ir\n",
      "year_month_day_hour                                                   \n",
      "2010-01-01 00:00:00   1    NaN   -21 -11.0  1021.0   NW   1.79   0   0\n",
      "2010-01-01 01:00:00   2    NaN   -21 -12.0  1020.0   NW   4.92   0   0\n",
      "2010-01-01 02:00:00   3    NaN   -21 -11.0  1019.0   NW   6.71   0   0\n",
      "2010-01-01 03:00:00   4    NaN   -21 -14.0  1019.0   NW   9.84   0   0\n",
      "2010-01-01 04:00:00   5    NaN   -20 -12.0  1018.0   NW  12.97   0   0\n",
      "                     pollution  dew  temp   press wnd_dir  wnd_spd  snow  rain\n",
      "date                                                                          \n",
      "2010-01-02 00:00:00      129.0  -16  -4.0  1020.0      SE     1.79     0     0\n",
      "2010-01-02 01:00:00      148.0  -15  -4.0  1020.0      SE     2.68     0     0\n",
      "2010-01-02 02:00:00      159.0  -11  -5.0  1021.0      SE     3.57     0     0\n",
      "2010-01-02 03:00:00      181.0   -7  -5.0  1022.0      SE     5.36     1     0\n",
      "2010-01-02 04:00:00      138.0   -7  -5.0  1022.0      SE     6.25     2     0\n"
     ]
    }
   ],
   "source": [
    "# load data\n",
    "def parse(x):\n",
    "\treturn datetime.strptime(x, '%Y %m %d %H')\n",
    "dataset = read_csv('HurricaneData/PRSA_data_2010.1.1-2014.12.31.csv',  parse_dates = [['year', 'month', 'day', 'hour']], index_col=0, date_parser=parse)\n",
    "dataset.drop('No', axis=1, inplace=True)\n",
    "# manually specify column names\n",
    "dataset.columns = ['pollution', 'dew', 'temp', 'press', 'wnd_dir', 'wnd_spd', 'snow', 'rain']\n",
    "dataset.index.name = 'date'\n",
    "# mark all NA values with 0\n",
    "dataset['pollution'].fillna(0, inplace=True)\n",
    "# drop the first 24 hours\n",
    "dataset = dataset[24:]\n",
    "# summarize first 5 rows\n",
    "print(dataset.head(5))\n",
    "# save to file\n",
    "dataset.to_csv('HurricaneData/Preprocessed/pollution.csv')"
   ]
  },
  {
   "cell_type": "markdown",
   "metadata": {},
   "source": [
    "# Texas, Houston weather data"
   ]
  },
  {
   "cell_type": "code",
   "execution_count": 75,
   "metadata": {
    "scrolled": true
   },
   "outputs": [
    {
     "name": "stdout",
     "output_type": "stream",
     "text": [
      "Original dataset:\n",
      "         Date  Max.TemperatureF  Mean.TemperatureF  Min.TemperatureF  \\\n",
      "1  1948-06-30               NaN                NaN               NaN   \n",
      "2  1948-07-01              90.0               80.0              69.0   \n",
      "3  1948-07-02              87.0               80.0              73.0   \n",
      "4  1948-07-03              84.0               80.0              75.0   \n",
      "5  1948-07-04              88.0               80.0              73.0   \n",
      "\n",
      "   Max.Dew.PointF  MeanDew.PointF  Min.DewpointF  Max.Humidity  Mean.Humidity  \\\n",
      "1             NaN             NaN            NaN           NaN            NaN   \n",
      "2            74.0            70.0           67.0         100.0           76.0   \n",
      "3            76.0            74.0           71.0          97.0           84.0   \n",
      "4            79.0            75.0           70.0         100.0           86.0   \n",
      "5            77.0            75.0           73.0          97.0           83.0   \n",
      "\n",
      "   Min.Humidity   ...    Min.VisibilityMiles  Max.Wind.SpeedMPH  \\\n",
      "1           NaN   ...                    NaN                NaN   \n",
      "2          52.0   ...                    3.0               23.0   \n",
      "3          67.0   ...                    3.0               14.0   \n",
      "4          67.0   ...                    3.0               10.0   \n",
      "5          61.0   ...                    0.0               12.0   \n",
      "\n",
      "   Mean.Wind.SpeedMPH  Max.Gust.SpeedMPH  PrecipitationIn  CloudCover  \\\n",
      "1                 NaN                NaN             0.00         NaN   \n",
      "2                 7.0                NaN             0.00         0.0   \n",
      "3                 6.0                NaN             0.00         0.0   \n",
      "4                 5.0                NaN             0.00         0.0   \n",
      "5                 6.0                NaN             0.00         0.0   \n",
      "\n",
      "                  Events  WindDirDegrees.br...          city  season  \n",
      "1                    NaN              -1<br />  Houston (TX)  Summer  \n",
      "2                    Fog              44<br />  Houston (TX)  Summer  \n",
      "3  Fog-Rain-Thunderstorm              84<br />  Houston (TX)  Summer  \n",
      "4               Fog-Rain              69<br />  Houston (TX)  Summer  \n",
      "5  Fog-Rain-Thunderstorm              84<br />  Houston (TX)  Summer  \n",
      "\n",
      "[5 rows x 25 columns]\n",
      "Processed dataset:\n",
      "      Max.TemperatureF  Mean.TemperatureF  Min.TemperatureF  Max.Dew.PointF  \\\n",
      "Date                                                                          \n",
      "25                96.0               86.0              77.0            78.0   \n",
      "26                96.0               86.0              75.0            77.0   \n",
      "27                97.0               86.0              75.0            78.0   \n",
      "28                96.0               86.0              77.0            80.0   \n",
      "29                96.0               86.0              77.0            76.0   \n",
      "\n",
      "      MeanDew.PointF  Min.DewpointF  Max.Humidity  Mean.Humidity  \\\n",
      "Date                                                               \n",
      "25              76.0           74.0          94.0           74.0   \n",
      "26              75.0           74.0          94.0           73.0   \n",
      "27              76.0           74.0          94.0           74.0   \n",
      "28              75.0           71.0          94.0           73.0   \n",
      "29              75.0           73.0          94.0           73.0   \n",
      "\n",
      "      Min.Humidity  Max.Sea.Level.PressureIn   ...    Min.VisibilityMiles  \\\n",
      "Date                                           ...                          \n",
      "25            49.0                     30.02   ...                   10.0   \n",
      "26            50.0                     30.02   ...                    8.0   \n",
      "27            49.0                     29.96   ...                   10.0   \n",
      "28            44.0                     29.97   ...                    8.0   \n",
      "29            49.0                     29.94   ...                    8.0   \n",
      "\n",
      "      Max.Wind.SpeedMPH  Mean.Wind.SpeedMPH  Max.Gust.SpeedMPH  \\\n",
      "Date                                                             \n",
      "25                 20.0                 8.0                0.0   \n",
      "26                 21.0                 8.0                0.0   \n",
      "27                 21.0                10.0                0.0   \n",
      "28                 17.0                 9.0                0.0   \n",
      "29                 22.0                11.0                0.0   \n",
      "\n",
      "      PrecipitationIn  CloudCover  Events  WindDirDegrees.br...          city  \\\n",
      "Date                                                                            \n",
      "25               0.00         0.0       0                   178  Houston (TX)   \n",
      "26               0.00         0.0       0                   193  Houston (TX)   \n",
      "27               0.00         0.0       0                   186  Houston (TX)   \n",
      "28               0.00         0.0       0                   187  Houston (TX)   \n",
      "29               0.00         0.0       0                   176  Houston (TX)   \n",
      "\n",
      "      season  \n",
      "Date          \n",
      "25    Summer  \n",
      "26    Summer  \n",
      "27    Summer  \n",
      "28    Summer  \n",
      "29    Summer  \n",
      "\n",
      "[5 rows x 24 columns]\n"
     ]
    }
   ],
   "source": [
    "# load data\n",
    "def parse(x):\n",
    "\treturn datetime.strptime(x, '%Y-%m-%d')\n",
    "dataset = read_csv('HurricaneData/houston.csv', index_col=0)\n",
    "print(\"Original dataset:\")\n",
    "print(dataset.head(5))\n",
    "dataset.drop(dataset.columns[0], axis=1, inplace=True)\n",
    "dataset.index.name = 'Date'\n",
    "\n",
    "# mark all NA values with 0\n",
    "dataset.fillna(0, inplace=True)\n",
    "\n",
    "clean_html(dataset)\n",
    "\n",
    "# drop the first 24 hours\n",
    "dataset = dataset[24:]\n",
    "# summarize first 5 rows\n",
    "print(\"Processed dataset:\")\n",
    "print(dataset.head(5))\n",
    "# save to file\n",
    "dataset.to_csv('HurricaneData/Preprocessed/houston.csv')"
   ]
  },
  {
   "cell_type": "code",
   "execution_count": null,
   "metadata": {
    "collapsed": true
   },
   "outputs": [],
   "source": []
  }
 ],
 "metadata": {
  "kernelspec": {
   "display_name": "Python 3",
   "language": "python",
   "name": "python3"
  },
  "language_info": {
   "codemirror_mode": {
    "name": "ipython",
    "version": 3
   },
   "file_extension": ".py",
   "mimetype": "text/x-python",
   "name": "python",
   "nbconvert_exporter": "python",
   "pygments_lexer": "ipython3",
   "version": "3.5.2"
  }
 },
 "nbformat": 4,
 "nbformat_minor": 2
}
