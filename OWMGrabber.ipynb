{
 "cells": [
  {
   "cell_type": "code",
   "execution_count": null,
   "metadata": {
    "collapsed": true
   },
   "outputs": [],
   "source": [
    "import pyowm\n",
    "import yaml\n",
    "import time\n",
    "import csv\n",
    "import os\n",
    "from shutil import move\n",
    "from more_itertools import unique_everseen"
   ]
  },
  {
   "cell_type": "code",
   "execution_count": null,
   "metadata": {
    "collapsed": true
   },
   "outputs": [],
   "source": [
    "csv_path = \"HurricaneData/owm_houston.csv\""
   ]
  },
  {
   "cell_type": "code",
   "execution_count": null,
   "metadata": {
    "collapsed": true
   },
   "outputs": [],
   "source": [
    "with open('config.yml') as f:\n",
    "    # use safe_load instead load\n",
    "    config = yaml.safe_load(f)"
   ]
  },
  {
   "cell_type": "code",
   "execution_count": null,
   "metadata": {
    "collapsed": true
   },
   "outputs": [],
   "source": [
    "while True:\n",
    "    owm = pyowm.OWM(config['owm_api_key'])  # You MUST provide a valid API key\n",
    "    fc = owm.daily_forecast('Texas')\n",
    "    f = fc.get_forecast()\n",
    "    file_exists = os.path.isfile(csv_path)\n",
    "    headers = ['timestamp', 'Max.TemperatureF', 'Min.TemperatureF', 'status_short', 'status', 'wind_speed', 'wind_dir', 'cloud_coverage', 'humidity', 'pressure', 'sea_level', 'rain', 'snow']\n",
    "    with open(csv_path, 'a') as csvfile:\n",
    "        writer = csv.writer(csvfile, delimiter=';',\n",
    "                            quotechar='|', quoting=csv.QUOTE_MINIMAL)\n",
    "        if not file_exists:\n",
    "            writer.writerow(headers)\n",
    "        \n",
    "        for w in f.get_weathers():\n",
    "            rain = w.get_rain()\n",
    "            snow = w.get_snow()\n",
    "            temp = w.get_temperature(unit='fahrenheit')\n",
    "            pres = w.get_pressure()\n",
    "            wind = w.get_wind()\n",
    "            to_write = [w.get_reference_time(), temp.get('max', ''), temp.get('min', ''), w.get_status(), w.get_detailed_status(), wind.get('speed', ''), wind.get('deg', ''), w.get_clouds(), w.get_humidity(), pres.get('press', ''), pres.get('sea_level', ''), rain.get('all', ''), snow.get('all', '')]\n",
    "            writer.writerow(to_write)\n",
    "            \n",
    "    with open(csv_path,'r') as f, open(csv_path + '.new','w') as out_file:\n",
    "        out_file.writelines(unique_everseen(f))\n",
    "        move(csv_path + '.new', csv_path)\n",
    "        \n",
    "    print('written lines')\n",
    "    time.sleep(60 * 60)"
   ]
  },
  {
   "cell_type": "code",
   "execution_count": null,
   "metadata": {
    "collapsed": true
   },
   "outputs": [],
   "source": []
  }
 ],
 "metadata": {
  "kernelspec": {
   "display_name": "Python 3",
   "language": "python",
   "name": "python3"
  },
  "language_info": {
   "codemirror_mode": {
    "name": "ipython",
    "version": 3
   },
   "file_extension": ".py",
   "mimetype": "text/x-python",
   "name": "python",
   "nbconvert_exporter": "python",
   "pygments_lexer": "ipython3",
   "version": "3.5.2"
  }
 },
 "nbformat": 4,
 "nbformat_minor": 2
}
